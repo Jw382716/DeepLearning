{
 "cells": [
  {
   "cell_type": "code",
   "execution_count": 3,
   "id": "70af0212",
   "metadata": {},
   "outputs": [],
   "source": [
    "from sklearn.datasets import load_boston\n",
    "from sklearn.model_selection import train_test_split\n",
    "import tensorflow as tf\n",
    "from tensorflow import keras"
   ]
  },
  {
   "cell_type": "code",
   "execution_count": 4,
   "id": "06ca8c56",
   "metadata": {},
   "outputs": [
    {
     "name": "stderr",
     "output_type": "stream",
     "text": [
      "C:\\Users\\User\\anaconda3\\lib\\site-packages\\sklearn\\utils\\deprecation.py:87: FutureWarning: Function load_boston is deprecated; `load_boston` is deprecated in 1.0 and will be removed in 1.2.\n",
      "\n",
      "    The Boston housing prices dataset has an ethical problem. You can refer to\n",
      "    the documentation of this function for further details.\n",
      "\n",
      "    The scikit-learn maintainers therefore strongly discourage the use of this\n",
      "    dataset unless the purpose of the code is to study and educate about\n",
      "    ethical issues in data science and machine learning.\n",
      "\n",
      "    In this special case, you can fetch the dataset from the original\n",
      "    source::\n",
      "\n",
      "        import pandas as pd\n",
      "        import numpy as np\n",
      "\n",
      "\n",
      "        data_url = \"http://lib.stat.cmu.edu/datasets/boston\"\n",
      "        raw_df = pd.read_csv(data_url, sep=\"\\s+\", skiprows=22, header=None)\n",
      "        data = np.hstack([raw_df.values[::2, :], raw_df.values[1::2, :2]])\n",
      "        target = raw_df.values[1::2, 2]\n",
      "\n",
      "    Alternative datasets include the California housing dataset (i.e.\n",
      "    :func:`~sklearn.datasets.fetch_california_housing`) and the Ames housing\n",
      "    dataset. You can load the datasets as follows::\n",
      "\n",
      "        from sklearn.datasets import fetch_california_housing\n",
      "        housing = fetch_california_housing()\n",
      "\n",
      "    for the California housing dataset and::\n",
      "\n",
      "        from sklearn.datasets import fetch_openml\n",
      "        housing = fetch_openml(name=\"house_prices\", as_frame=True)\n",
      "\n",
      "    for the Ames housing dataset.\n",
      "    \n",
      "  warnings.warn(msg, category=FutureWarning)\n"
     ]
    }
   ],
   "source": [
    "boston = load_boston()"
   ]
  },
  {
   "cell_type": "code",
   "execution_count": 5,
   "id": "4a25f6e5",
   "metadata": {},
   "outputs": [],
   "source": [
    "x = boston.data\n",
    "y = boston.target"
   ]
  },
  {
   "cell_type": "code",
   "execution_count": 8,
   "id": "03591bbb",
   "metadata": {},
   "outputs": [
    {
     "data": {
      "text/plain": [
       "((506, 13), (506,))"
      ]
     },
     "execution_count": 8,
     "metadata": {},
     "output_type": "execute_result"
    }
   ],
   "source": [
    "x.shape, y.shape"
   ]
  },
  {
   "cell_type": "code",
   "execution_count": 9,
   "id": "e9a26228",
   "metadata": {},
   "outputs": [],
   "source": [
    "x_train, x_test, y_train, y_test = train_test_split(x,y,test_size = 0.3, random_state=2022)"
   ]
  },
  {
   "cell_type": "code",
   "execution_count": 10,
   "id": "4b967b38",
   "metadata": {},
   "outputs": [
    {
     "name": "stdout",
     "output_type": "stream",
     "text": [
      "Model: \"sequential\"\n",
      "_________________________________________________________________\n",
      " Layer (type)                Output Shape              Param #   \n",
      "=================================================================\n",
      " dense (Dense)               (None, 36)                504       \n",
      "                                                                 \n",
      " dense_1 (Dense)             (None, 36)                1332      \n",
      "                                                                 \n",
      " dense_2 (Dense)             (None, 1)                 37        \n",
      "                                                                 \n",
      "=================================================================\n",
      "Total params: 1,873\n",
      "Trainable params: 1,873\n",
      "Non-trainable params: 0\n",
      "_________________________________________________________________\n"
     ]
    }
   ],
   "source": [
    "keras.backend.clear_session()\n",
    "\n",
    "model = keras.models.Sequential()\n",
    "\n",
    "model.add(keras.layers.Input(shape = (13,)))\n",
    "model.add(keras.layers.Dense(36, activation = 'relu'))\n",
    "model.add(keras.layers.Dense(36, activation = 'relu'))\n",
    "model.add(keras.layers.Dense(1))\n",
    "\n",
    "model.compile(loss = 'mse', optimizer = 'adam')\n",
    "\n",
    "model.summary()"
   ]
  },
  {
   "cell_type": "code",
   "execution_count": 13,
   "id": "4cdc87ca",
   "metadata": {},
   "outputs": [
    {
     "name": "stdout",
     "output_type": "stream",
     "text": [
      "Epoch 1/10\n",
      "9/9 [==============================] - 0s 14ms/step - loss: 44.1094 - val_loss: 48.1310\n",
      "Epoch 2/10\n",
      "9/9 [==============================] - 0s 8ms/step - loss: 47.6955 - val_loss: 53.8158\n",
      "Epoch 3/10\n",
      "9/9 [==============================] - 0s 8ms/step - loss: 43.4273 - val_loss: 28.1666\n",
      "Epoch 4/10\n",
      "9/9 [==============================] - 0s 8ms/step - loss: 41.5003 - val_loss: 25.5416\n",
      "Epoch 5/10\n",
      "9/9 [==============================] - 0s 8ms/step - loss: 40.6161 - val_loss: 26.7986\n",
      "Epoch 6/10\n",
      "9/9 [==============================] - 0s 8ms/step - loss: 43.2656 - val_loss: 35.3215\n",
      "Epoch 7/10\n",
      "9/9 [==============================] - 0s 8ms/step - loss: 39.9373 - val_loss: 24.9395\n",
      "Epoch 8/10\n",
      "9/9 [==============================] - 0s 7ms/step - loss: 38.3443 - val_loss: 23.6527\n",
      "Epoch 9/10\n",
      "9/9 [==============================] - 0s 7ms/step - loss: 42.3762 - val_loss: 22.9322\n",
      "Epoch 10/10\n",
      "9/9 [==============================] - 0s 8ms/step - loss: 39.4621 - val_loss: 23.3160\n"
     ]
    },
    {
     "data": {
      "text/plain": [
       "<keras.callbacks.History at 0x11e946ba8e0>"
      ]
     },
     "execution_count": 13,
     "metadata": {},
     "output_type": "execute_result"
    }
   ],
   "source": [
    "model.fit(x_train, y_train, verbose = 1, epochs = 10, validation_split = 0.2)"
   ]
  },
  {
   "cell_type": "code",
   "execution_count": 17,
   "id": "202eea54",
   "metadata": {},
   "outputs": [
    {
     "name": "stdout",
     "output_type": "stream",
     "text": [
      "[22.941036 13.77476  21.265392 30.059948 20.101116]\n",
      "[20.1 11.9 20.6 33.2 20.8]\n"
     ]
    }
   ],
   "source": [
    "y_pred = model.predict(x_test)\n",
    "print(y_pred.reshape(-1)[:5])\n",
    "print(y_test[:5])"
   ]
  },
  {
   "cell_type": "code",
   "execution_count": 18,
   "id": "4d5a8700",
   "metadata": {},
   "outputs": [
    {
     "name": "stdout",
     "output_type": "stream",
     "text": [
      "Model: \"model\"\n",
      "_________________________________________________________________\n",
      " Layer (type)                Output Shape              Param #   \n",
      "=================================================================\n",
      " input_1 (InputLayer)        [(None, 13)]              0         \n",
      "                                                                 \n",
      " dense (Dense)               (None, 36)                504       \n",
      "                                                                 \n",
      " dense_1 (Dense)             (None, 36)                1332      \n",
      "                                                                 \n",
      " dense_2 (Dense)             (None, 1)                 37        \n",
      "                                                                 \n",
      "=================================================================\n",
      "Total params: 1,873\n",
      "Trainable params: 1,873\n",
      "Non-trainable params: 0\n",
      "_________________________________________________________________\n"
     ]
    }
   ],
   "source": [
    "keras.backend.clear_session()\n",
    "\n",
    "il = keras.layers.Input(shape = (13,))\n",
    "hl = keras.layers.Dense(36, activation = 'relu')(il)\n",
    "hl = keras.layers.Dense(36, activation = 'relu')(hl)\n",
    "ol = keras.layers.Dense(1)(hl)\n",
    "\n",
    "model = keras.models.Model(il,ol)\n",
    "\n",
    "model.compile(loss = 'mse', optimizer = 'adam')\n",
    "\n",
    "model.summary()"
   ]
  },
  {
   "cell_type": "code",
   "execution_count": 20,
   "id": "a01674e7",
   "metadata": {},
   "outputs": [
    {
     "name": "stdout",
     "output_type": "stream",
     "text": [
      "Epoch 1/10\n",
      "9/9 [==============================] - 0s 14ms/step - loss: 69.0624 - val_loss: 53.7299\n",
      "Epoch 2/10\n",
      "9/9 [==============================] - 0s 8ms/step - loss: 67.7076 - val_loss: 49.6142\n",
      "Epoch 3/10\n",
      "9/9 [==============================] - 0s 8ms/step - loss: 66.6069 - val_loss: 46.9672\n",
      "Epoch 4/10\n",
      "9/9 [==============================] - 0s 8ms/step - loss: 62.8431 - val_loss: 53.5361\n",
      "Epoch 5/10\n",
      "9/9 [==============================] - 0s 9ms/step - loss: 64.3259 - val_loss: 53.8244\n",
      "Epoch 6/10\n",
      "9/9 [==============================] - 0s 8ms/step - loss: 65.8867 - val_loss: 42.3584\n",
      "Epoch 7/10\n",
      "9/9 [==============================] - 0s 7ms/step - loss: 63.6870 - val_loss: 41.0185\n",
      "Epoch 8/10\n",
      "9/9 [==============================] - 0s 8ms/step - loss: 62.2803 - val_loss: 48.2270\n",
      "Epoch 9/10\n",
      "9/9 [==============================] - 0s 8ms/step - loss: 66.1382 - val_loss: 39.5679\n",
      "Epoch 10/10\n",
      "9/9 [==============================] - 0s 8ms/step - loss: 70.6351 - val_loss: 44.3370\n"
     ]
    },
    {
     "data": {
      "text/plain": [
       "<keras.callbacks.History at 0x11e957ba3a0>"
      ]
     },
     "execution_count": 20,
     "metadata": {},
     "output_type": "execute_result"
    }
   ],
   "source": [
    "model.fit(x_train, y_train, verbose = 1, epochs = 10, validation_split=0.2)"
   ]
  },
  {
   "cell_type": "code",
   "execution_count": 21,
   "id": "53e4f94a",
   "metadata": {},
   "outputs": [
    {
     "name": "stdout",
     "output_type": "stream",
     "text": [
      "[21.564287 15.628753 22.911963 26.03309  18.299112]\n"
     ]
    }
   ],
   "source": [
    "y_pred = model.predict(x_test)\n",
    "print(y_pred.reshape(-1)[:5])"
   ]
  }
 ],
 "metadata": {
  "kernelspec": {
   "display_name": "Python 3",
   "language": "python",
   "name": "python3"
  },
  "language_info": {
   "codemirror_mode": {
    "name": "ipython",
    "version": 3
   },
   "file_extension": ".py",
   "mimetype": "text/x-python",
   "name": "python",
   "nbconvert_exporter": "python",
   "pygments_lexer": "ipython3",
   "version": "3.8.8"
  }
 },
 "nbformat": 4,
 "nbformat_minor": 5
}
