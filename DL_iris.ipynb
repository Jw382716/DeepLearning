{
 "cells": [
  {
   "cell_type": "code",
   "execution_count": 103,
   "id": "5c450b07",
   "metadata": {},
   "outputs": [],
   "source": [
    "from sklearn.datasets import load_iris\n",
    "import tensorflow as tf\n",
    "from tensorflow import keras\n",
    "import pandas as pd\n",
    "from sklearn.model_selection import train_test_split\n",
    "from tensorflow.keras.utils import to_categorical"
   ]
  },
  {
   "cell_type": "code",
   "execution_count": 104,
   "id": "ac7409bd",
   "metadata": {},
   "outputs": [],
   "source": [
    "iris = load_iris()"
   ]
  },
  {
   "cell_type": "code",
   "execution_count": 105,
   "id": "31437abc",
   "metadata": {},
   "outputs": [],
   "source": [
    "x = iris.data\n",
    "y = iris.target"
   ]
  },
  {
   "cell_type": "code",
   "execution_count": 106,
   "id": "315352c8",
   "metadata": {},
   "outputs": [],
   "source": [
    "y = to_categorical(y,3)"
   ]
  },
  {
   "cell_type": "code",
   "execution_count": 107,
   "id": "066e60a2",
   "metadata": {},
   "outputs": [
    {
     "data": {
      "text/plain": [
       "((150, 4), (150, 3))"
      ]
     },
     "execution_count": 107,
     "metadata": {},
     "output_type": "execute_result"
    }
   ],
   "source": [
    "x.shape, y.shape"
   ]
  },
  {
   "cell_type": "code",
   "execution_count": 108,
   "id": "1493c107",
   "metadata": {},
   "outputs": [],
   "source": [
    "x_train, x_test, y_train, y_test = train_test_split(x,y,test_size = 0.3, random_state=2022)"
   ]
  },
  {
   "cell_type": "code",
   "execution_count": 109,
   "id": "e5355b8a",
   "metadata": {},
   "outputs": [
    {
     "name": "stdout",
     "output_type": "stream",
     "text": [
      "Model: \"sequential\"\n",
      "_________________________________________________________________\n",
      " Layer (type)                Output Shape              Param #   \n",
      "=================================================================\n",
      " dense (Dense)               (None, 24)                120       \n",
      "                                                                 \n",
      " dense_1 (Dense)             (None, 36)                900       \n",
      "                                                                 \n",
      " dense_2 (Dense)             (None, 3)                 111       \n",
      "                                                                 \n",
      "=================================================================\n",
      "Total params: 1,131\n",
      "Trainable params: 1,131\n",
      "Non-trainable params: 0\n",
      "_________________________________________________________________\n"
     ]
    }
   ],
   "source": [
    "keras.backend.clear_session()\n",
    "\n",
    "model = keras.models.Sequential()\n",
    "\n",
    "model.add(keras.layers.Input(shape=(4,)))\n",
    "model.add(keras.layers.Dense(24, activation = 'relu'))\n",
    "model.add(keras.layers.Dense(36, activation = 'relu'))\n",
    "model.add(keras.layers.Dense(3, activation = 'softmax'))\n",
    "\n",
    "model.compile(loss = 'categorical_crossentropy', optimizer = 'adam', metrics = ['accuracy'])\n",
    "\n",
    "model.summary()"
   ]
  },
  {
   "cell_type": "code",
   "execution_count": 120,
   "id": "eba5f076",
   "metadata": {},
   "outputs": [
    {
     "name": "stdout",
     "output_type": "stream",
     "text": [
      "Epoch 1/10\n",
      "3/3 [==============================] - 0s 141ms/step - loss: 0.5413 - accuracy: 0.8095 - val_loss: 0.5257 - val_accuracy: 0.8095\n",
      "Epoch 2/10\n",
      "3/3 [==============================] - 0s 19ms/step - loss: 0.5369 - accuracy: 0.7024 - val_loss: 0.5208 - val_accuracy: 0.8095\n",
      "Epoch 3/10\n",
      "3/3 [==============================] - 0s 22ms/step - loss: 0.5316 - accuracy: 0.6905 - val_loss: 0.5125 - val_accuracy: 0.8095\n",
      "Epoch 4/10\n",
      "3/3 [==============================] - 0s 20ms/step - loss: 0.5232 - accuracy: 0.7262 - val_loss: 0.5014 - val_accuracy: 0.8571\n",
      "Epoch 5/10\n",
      "3/3 [==============================] - 0s 22ms/step - loss: 0.5173 - accuracy: 0.8095 - val_loss: 0.4896 - val_accuracy: 0.9048\n",
      "Epoch 6/10\n",
      "3/3 [==============================] - 0s 24ms/step - loss: 0.5077 - accuracy: 0.9405 - val_loss: 0.4817 - val_accuracy: 0.9524\n",
      "Epoch 7/10\n",
      "3/3 [==============================] - 0s 24ms/step - loss: 0.5028 - accuracy: 0.9643 - val_loss: 0.4748 - val_accuracy: 0.9524\n",
      "Epoch 8/10\n",
      "3/3 [==============================] - 0s 25ms/step - loss: 0.4963 - accuracy: 0.9643 - val_loss: 0.4689 - val_accuracy: 0.9524\n",
      "Epoch 9/10\n",
      "3/3 [==============================] - 0s 24ms/step - loss: 0.4902 - accuracy: 0.9643 - val_loss: 0.4637 - val_accuracy: 0.9048\n",
      "Epoch 10/10\n",
      "3/3 [==============================] - 0s 24ms/step - loss: 0.4839 - accuracy: 0.9405 - val_loss: 0.4590 - val_accuracy: 0.9048\n"
     ]
    },
    {
     "data": {
      "text/plain": [
       "<keras.callbacks.History at 0x1c1df6173d0>"
      ]
     },
     "execution_count": 120,
     "metadata": {},
     "output_type": "execute_result"
    }
   ],
   "source": [
    "model.fit(x_train, y_train, verbose = 1, epochs = 10, validation_split=0.2)"
   ]
  },
  {
   "cell_type": "code",
   "execution_count": 121,
   "id": "47af2104",
   "metadata": {},
   "outputs": [
    {
     "name": "stdout",
     "output_type": "stream",
     "text": [
      "[[0. 0. 1.]\n",
      " [0. 0. 1.]\n",
      " [1. 0. 0.]\n",
      " [0. 0. 1.]\n",
      " [1. 0. 0.]]\n"
     ]
    }
   ],
   "source": [
    "y_pred = model.predict(x_test)\n",
    "print(y_pred.round(0)[:5])"
   ]
  },
  {
   "cell_type": "code",
   "execution_count": 117,
   "id": "250f3996",
   "metadata": {},
   "outputs": [
    {
     "name": "stdout",
     "output_type": "stream",
     "text": [
      "Model: \"model\"\n",
      "_________________________________________________________________\n",
      " Layer (type)                Output Shape              Param #   \n",
      "=================================================================\n",
      " input_1 (InputLayer)        [(None, 4)]               0         \n",
      "                                                                 \n",
      " dense (Dense)               (None, 32)                160       \n",
      "                                                                 \n",
      " dense_1 (Dense)             (None, 32)                1056      \n",
      "                                                                 \n",
      " dense_2 (Dense)             (None, 3)                 99        \n",
      "                                                                 \n",
      "=================================================================\n",
      "Total params: 1,315\n",
      "Trainable params: 1,315\n",
      "Non-trainable params: 0\n",
      "_________________________________________________________________\n"
     ]
    }
   ],
   "source": [
    "keras.backend.clear_session()\n",
    "\n",
    "il = keras.layers.Input(shape = (4,))\n",
    "hl = keras.layers.Dense(32, activation = 'relu')(il)\n",
    "hl = keras.layers.Dense(32, activation = 'relu')(hl)\n",
    "ol = keras.layers.Dense(3, activation = 'softmax')(hl)\n",
    "\n",
    "model = keras.models.Model(il, ol)\n",
    "\n",
    "model.compile(loss = keras.losses.categorical_crossentropy, optimizer = keras.optimizers.Adam(), metrics = ['accuracy'])\n",
    "\n",
    "model.summary()"
   ]
  },
  {
   "cell_type": "code",
   "execution_count": 122,
   "id": "28ee94b7",
   "metadata": {},
   "outputs": [
    {
     "name": "stdout",
     "output_type": "stream",
     "text": [
      "Epoch 1/20\n",
      "3/3 [==============================] - 0s 46ms/step - loss: 0.4797 - accuracy: 0.8810 - val_loss: 0.4542 - val_accuracy: 0.9048\n",
      "Epoch 2/20\n",
      "3/3 [==============================] - 0s 25ms/step - loss: 0.4736 - accuracy: 0.9167 - val_loss: 0.4470 - val_accuracy: 0.9048\n",
      "Epoch 3/20\n",
      "3/3 [==============================] - 0s 24ms/step - loss: 0.4671 - accuracy: 0.9405 - val_loss: 0.4411 - val_accuracy: 0.9048\n",
      "Epoch 4/20\n",
      "3/3 [==============================] - 0s 24ms/step - loss: 0.4622 - accuracy: 0.9524 - val_loss: 0.4354 - val_accuracy: 0.9524\n",
      "Epoch 5/20\n",
      "3/3 [==============================] - 0s 23ms/step - loss: 0.4575 - accuracy: 0.9524 - val_loss: 0.4304 - val_accuracy: 0.9048\n",
      "Epoch 6/20\n",
      "3/3 [==============================] - 0s 20ms/step - loss: 0.4522 - accuracy: 0.9524 - val_loss: 0.4243 - val_accuracy: 0.9524\n",
      "Epoch 7/20\n",
      "3/3 [==============================] - 0s 24ms/step - loss: 0.4473 - accuracy: 0.9524 - val_loss: 0.4202 - val_accuracy: 0.9048\n",
      "Epoch 8/20\n",
      "3/3 [==============================] - 0s 24ms/step - loss: 0.4413 - accuracy: 0.9405 - val_loss: 0.4148 - val_accuracy: 0.9524\n",
      "Epoch 9/20\n",
      "3/3 [==============================] - 0s 20ms/step - loss: 0.4362 - accuracy: 0.9643 - val_loss: 0.4100 - val_accuracy: 0.9524\n",
      "Epoch 10/20\n",
      "3/3 [==============================] - 0s 20ms/step - loss: 0.4315 - accuracy: 0.9643 - val_loss: 0.4053 - val_accuracy: 0.9524\n",
      "Epoch 11/20\n",
      "3/3 [==============================] - 0s 25ms/step - loss: 0.4280 - accuracy: 0.9643 - val_loss: 0.4001 - val_accuracy: 0.9524\n",
      "Epoch 12/20\n",
      "3/3 [==============================] - 0s 21ms/step - loss: 0.4226 - accuracy: 0.9643 - val_loss: 0.3962 - val_accuracy: 0.9524\n",
      "Epoch 13/20\n",
      "3/3 [==============================] - 0s 29ms/step - loss: 0.4180 - accuracy: 0.9643 - val_loss: 0.3920 - val_accuracy: 0.9524\n",
      "Epoch 14/20\n",
      "3/3 [==============================] - 0s 22ms/step - loss: 0.4138 - accuracy: 0.9643 - val_loss: 0.3877 - val_accuracy: 0.9524\n",
      "Epoch 15/20\n",
      "3/3 [==============================] - 0s 23ms/step - loss: 0.4097 - accuracy: 0.9643 - val_loss: 0.3832 - val_accuracy: 0.9524\n",
      "Epoch 16/20\n",
      "3/3 [==============================] - 0s 22ms/step - loss: 0.4050 - accuracy: 0.9643 - val_loss: 0.3792 - val_accuracy: 0.9524\n",
      "Epoch 17/20\n",
      "3/3 [==============================] - 0s 25ms/step - loss: 0.4005 - accuracy: 0.9643 - val_loss: 0.3750 - val_accuracy: 0.9524\n",
      "Epoch 18/20\n",
      "3/3 [==============================] - 0s 23ms/step - loss: 0.3979 - accuracy: 0.9643 - val_loss: 0.3706 - val_accuracy: 0.9524\n",
      "Epoch 19/20\n",
      "3/3 [==============================] - 0s 22ms/step - loss: 0.3932 - accuracy: 0.9643 - val_loss: 0.3678 - val_accuracy: 0.9524\n",
      "Epoch 20/20\n",
      "3/3 [==============================] - 0s 20ms/step - loss: 0.3886 - accuracy: 0.9643 - val_loss: 0.3638 - val_accuracy: 0.9524\n"
     ]
    },
    {
     "data": {
      "text/plain": [
       "<keras.callbacks.History at 0x1c1dc231fd0>"
      ]
     },
     "execution_count": 122,
     "metadata": {},
     "output_type": "execute_result"
    }
   ],
   "source": [
    "model.fit(x_train, y_train, verbose = 1, epochs = 20, validation_split=0.2)"
   ]
  },
  {
   "cell_type": "code",
   "execution_count": 123,
   "id": "27910caf",
   "metadata": {},
   "outputs": [
    {
     "name": "stdout",
     "output_type": "stream",
     "text": [
      "[[0. 0. 1.]\n",
      " [0. 0. 1.]\n",
      " [1. 0. 0.]\n",
      " [0. 0. 1.]\n",
      " [1. 0. 0.]]\n"
     ]
    }
   ],
   "source": [
    "y_pred = model.predict(x_test)\n",
    "print(y_pred.round(0)[:5])"
   ]
  },
  {
   "cell_type": "code",
   "execution_count": null,
   "id": "58adc838",
   "metadata": {},
   "outputs": [],
   "source": []
  }
 ],
 "metadata": {
  "kernelspec": {
   "display_name": "Python 3",
   "language": "python",
   "name": "python3"
  },
  "language_info": {
   "codemirror_mode": {
    "name": "ipython",
    "version": 3
   },
   "file_extension": ".py",
   "mimetype": "text/x-python",
   "name": "python",
   "nbconvert_exporter": "python",
   "pygments_lexer": "ipython3",
   "version": "3.8.8"
  }
 },
 "nbformat": 4,
 "nbformat_minor": 5
}
